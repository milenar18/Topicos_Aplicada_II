{
 "cells": [
  {
   "cell_type": "code",
   "execution_count": 2,
   "metadata": {},
   "outputs": [
    {
     "name": "stdout",
     "output_type": "stream",
     "text": [
      "Característica de Euler para a letra A: 1\n",
      "Característica de Euler para a letra B: 0\n",
      "Característica de Euler para a letra O: 2\n",
      "\n",
      "Verificando relações entre homotopia e característica de Euler:\n",
      "A e O são homotopicamente equivalentes? Não\n",
      "A e B são homotopicamente equivalentes? Não\n"
     ]
    },
    {
     "name": "stderr",
     "output_type": "stream",
     "text": [
      "<>:15: SyntaxWarning: invalid escape sequence '\\('\n",
      "<>:15: SyntaxWarning: invalid escape sequence '\\('\n",
      "C:\\Users\\Milena\\AppData\\Local\\Temp\\ipykernel_13064\\3830243485.py:15: SyntaxWarning: invalid escape sequence '\\('\n",
      "  \"\"\"\n"
     ]
    }
   ],
   "source": [
    "class Letter:\n",
    "    def __init__(self, vertices, arestas, faces):\n",
    "        \"\"\"\n",
    "        Inicializa uma letra com sua triangulação.\n",
    "\n",
    "        :para vertices: Número de vértices (V)\n",
    "        :para arestas: Número de arestas (E)\n",
    "        :para faces: Número de faces (triângulos) (F)\n",
    "        \"\"\"\n",
    "        self.vertices = vertices\n",
    "        self.arestas = arestas\n",
    "        self.faces = faces\n",
    "\n",
    "    def euler_characteristic(self):\n",
    "        \"\"\"\n",
    "        Calcula a característica de Euler usando a fórmula:\n",
    "        \n",
    "        \\( \\chi = V - E + F \\)\n",
    "        \n",
    "        :return: Característica de Euler (int)\n",
    "        \"\"\"\n",
    "        return self.vertices - self.arestas + self.faces\n",
    "\n",
    "# Exemplo de triangulação para a letra A\n",
    "letter_a = Letter(vertices=6, arestas=9, faces=4)\n",
    "\n",
    "# Calculando a característica de Euler para A\n",
    "euler_a = letter_a.euler_characteristic()\n",
    "\n",
    "# Exemplo de triangulação para a letra B\n",
    "letter_b = Letter(vertices=8, arestas=14, faces=6)\n",
    "\n",
    "# Exemplo de triangulação para a letra O\n",
    "letter_o = Letter(vertices=8, arestas=12, faces=6)  \n",
    "\n",
    "# Calculando características de Euler para B e O\n",
    "euler_b = letter_b.euler_characteristic()\n",
    "euler_o = letter_o.euler_characteristic()\n",
    "\n",
    "print(f\"Característica de Euler para a letra A: {euler_a}\")\n",
    "print(f\"Característica de Euler para a letra B: {euler_b}\")\n",
    "print(f\"Característica de Euler para a letra O: {euler_o}\")\n",
    "\n",
    "# Comparação entre letras para verificar as relações\n",
    "print(\"\\nVerificando relações entre homotopia e característica de Euler:\")\n",
    "print(f\"A e O são homotopicamente equivalentes? {'Sim' if euler_a == euler_o else 'Não'}\")\n",
    "print(f\"A e B são homotopicamente equivalentes? {'Sim' if euler_a == euler_b else 'Não'}\")"
   ]
  }
 ],
 "metadata": {
  "kernelspec": {
   "display_name": "Python 3",
   "language": "python",
   "name": "python3"
  },
  "language_info": {
   "codemirror_mode": {
    "name": "ipython",
    "version": 3
   },
   "file_extension": ".py",
   "mimetype": "text/x-python",
   "name": "python",
   "nbconvert_exporter": "python",
   "pygments_lexer": "ipython3",
   "version": "3.12.4"
  }
 },
 "nbformat": 4,
 "nbformat_minor": 2
}
