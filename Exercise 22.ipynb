{
 "cells": [
  {
   "cell_type": "code",
   "execution_count": 2,
   "metadata": {},
   "outputs": [
    {
     "name": "stdout",
     "output_type": "stream",
     "text": [
      "Característica de Euler para a letra A: 1\n",
      "Característica de Euler para a letra B: 0\n",
      "Característica de Euler para a letra O: 2\n",
      "\n",
      "Verificando relações entre homotopia e característica de Euler:\n",
      "A e O são homotopicamente equivalentes? Não\n",
      "A e B são homotopicamente equivalentes? Não\n"
     ]
    },
    {
     "name": "stderr",
     "output_type": "stream",
     "text": [
      "<>:15: SyntaxWarning: invalid escape sequence '\\('\n",
      "<>:15: SyntaxWarning: invalid escape sequence '\\('\n",
      "C:\\Users\\Milena\\AppData\\Local\\Temp\\ipykernel_13064\\3830243485.py:15: SyntaxWarning: invalid escape sequence '\\('\n",
      "  \"\"\"\n"
     ]
    }
   ],
   "source": [
class Letter:
    def __init__(self, vertices, arestas, faces):
        """
        Inicializa uma letra com sua triangulação.

        :para vertices: Número de vértices (V)
        :para arestas: Número de arestas (E)
        :para faces: Número de faces (triângulos) (F)
        """
        self.vertices = vertices
        self.arestas = arestas
        self.faces = faces

    def euler_characteristic(self):
        """
        Calcula a característica de Euler usando a fórmula:
        
        \( \chi = V - E + F \)
        
        :return: Característica de Euler (int)
        """
        return self.vertices - self.arestas + self.faces

# Exemplo de triangulação para a letra A
letter_a = Letter(vertices=6, arestas=9, faces=4)
euler_a = letter_a.euler_characteristic()

# Exemplo de triangulação para a letra B
letter_b = Letter(vertices=8, arestas=14, faces=6)
euler_b = letter_b.euler_characteristic()

# Exemplo de triangulação para a letra C
letter_c = Letter(vertices=4, arestas=4, faces=1)
euler_c = letter_c.euler_characteristic()

# Exemplo de triangulação para a letra D
letter_d = Letter(vertices=6, arestas=9, faces=5)  
euler_d = letter_d.euler_characteristic()

# Exemplo de triangulação para a letra E
letter_e = Letter(vertices=4, arestas=4, faces=1)  
euler_e = letter_e.euler_characteristic()

# Exemplo de triangulação para a letra F
letter_f = Letter(vertices=4, arestas=4, faces=1)  
euler_f = letter_f.euler_characteristic()

# Exemplo de triangulação para a letra G
letter_g = Letter(vertices=8, arestas=10, faces=3)  
euler_g = letter_g.euler_characteristic()

print(f"Característica de Euler para a letra A: {euler_a}")
print(f"Característica de Euler para a letra B: {euler_b}")
print(f"Característica de Euler para a letra C: {euler_c}")
print(f"Característica de Euler para a letra D: {euler_d}")
print(f"Característica de Euler para a letra E: {euler_e}")
print(f"Característica de Euler para a letra F: {euler_f}")
print(f"Característica de Euler para a letra G: {euler_g}")
 ],
 "metadata": {
  "kernelspec": {
   "display_name": "Python 3",
   "language": "python",
   "name": "python3"
  },
  "language_info": {
   "codemirror_mode": {
    "name": "ipython",
    "version": 3
   },
   "file_extension": ".py",
   "mimetype": "text/x-python",
   "name": "python",
   "nbconvert_exporter": "python",
   "pygments_lexer": "ipython3",
   "version": "3.12.4"
  }
 },
 "nbformat": 4,
 "nbformat_minor": 2
}
