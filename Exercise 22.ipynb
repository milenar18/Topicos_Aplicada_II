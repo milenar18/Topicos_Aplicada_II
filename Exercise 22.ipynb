{
 "cells": [
  {
   "cell_type": "code",
   "execution_count": 1,
   "metadata": {},
   "outputs": [
    {
     "ename": "ModuleNotFoundError",
     "evalue": "No module named 'gudhi'",
     "output_type": "error",
     "traceback": [
      "\u001b[1;31m---------------------------------------------------------------------------\u001b[0m",
      "\u001b[1;31mModuleNotFoundError\u001b[0m                       Traceback (most recent call last)",
      "Cell \u001b[1;32mIn[1], line 1\u001b[0m\n\u001b[1;32m----> 1\u001b[0m \u001b[38;5;28;01mimport\u001b[39;00m\u001b[38;5;250m \u001b[39m\u001b[38;5;21;01mgudhi\u001b[39;00m\n\u001b[0;32m      2\u001b[0m \u001b[38;5;28;01mimport\u001b[39;00m\u001b[38;5;250m \u001b[39m\u001b[38;5;21;01mnumpy\u001b[39;00m\u001b[38;5;250m \u001b[39m\u001b[38;5;28;01mas\u001b[39;00m\u001b[38;5;250m \u001b[39m\u001b[38;5;21;01mnp\u001b[39;00m\n\u001b[0;32m      3\u001b[0m \u001b[38;5;28;01mimport\u001b[39;00m\u001b[38;5;250m \u001b[39m\u001b[38;5;21;01mnetworkx\u001b[39;00m\u001b[38;5;250m \u001b[39m\u001b[38;5;28;01mas\u001b[39;00m\u001b[38;5;250m \u001b[39m\u001b[38;5;21;01mnx\u001b[39;00m\n",
      "\u001b[1;31mModuleNotFoundError\u001b[0m: No module named 'gudhi'"
     ]
    }
   ],
   "source": [
    "class Letter:\n",
    "    def __init__(self, vertices, arestas, faces):\n",
    "        \"\"\"\n",
    "        Inicializa uma letra com sua triangulação.\n",
    "\n",
    "        :para vertices: Número de vértices (V)\n",
    "        :para arestas: Número de arestas (E)\n",
    "        :para faces: Número de faces (triângulos) (F)\n",
    "        \"\"\"\n",
    "        self.vertices = vertices\n",
    "        self.arestas = arestas\n",
    "        self.faces = faces\n",
    "\n",
    "    def euler_characteristic(self):\n",
    "        \"\"\"\n",
    "        Calcula a característica de Euler usando a fórmula:\n",
    "        \n",
    "        \\( \\chi = V - E + F \\)\n",
    "        \n",
    "        :return: Característica de Euler (int)\n",
    "        \"\"\"\n",
    "        return self.vertices - self.arestas + self.faces\n",
    "\n",
    "# Exemplo de triangulação para a letra A\n",
    "letter_a = Letter(vertices=6, arestas=9, faces=4)\n",
    "euler_a = letter_a.euler_characteristic()\n",
    "\n",
    "# Exemplo de triangulação para a letra B\n",
    "letter_b = Letter(vertices=8, arestas=14, faces=6)\n",
    "euler_b = letter_b.euler_characteristic()\n",
    "\n",
    "# Exemplo de triangulação para a letra C\n",
    "letter_c = Letter(vertices=4, arestas=4, faces=1)\n",
    "euler_c = letter_c.euler_characteristic()\n",
    "\n",
    "# Exemplo de triangulação para a letra D\n",
    "letter_d = Letter(vertices=6, arestas=9, faces=5)  \n",
    "euler_d = letter_d.euler_characteristic()\n",
    "\n",
    "# Exemplo de triangulação para a letra E\n",
    "letter_e = Letter(vertices=4, arestas=4, faces=1)  \n",
    "euler_e = letter_e.euler_characteristic()\n",
    "\n",
    "# Exemplo de triangulação para a letra F\n",
    "letter_f = Letter(vertices=4, arestas=4, faces=1)  \n",
    "euler_f = letter_f.euler_characteristic()\n",
    "\n",
    "# Exemplo de triangulação para a letra G\n",
    "letter_g = Letter(vertices=8, arestas=10, faces=3)  \n",
    "euler_g = letter_g.euler_characteristic()\n",
    "\n",
    "print(f\"Característica de Euler para a letra A: {euler_a}\")\n",
    "print(f\"Característica de Euler para a letra B: {euler_b}\")\n",
    "print(f\"Característica de Euler para a letra C: {euler_c}\")\n",
    "print(f\"Característica de Euler para a letra D: {euler_d}\")\n",
    "print(f\"Característica de Euler para a letra E: {euler_e}\")\n",
    "print(f\"Característica de Euler para a letra F: {euler_f}\")\n",
    "print(f\"Característica de Euler para a letra G: {euler_g}\")"
   ]
  }
 ],
 "metadata": {
  "kernelspec": {
   "display_name": "Python 3",
   "language": "python",
   "name": "python3"
  },
  "language_info": {
   "codemirror_mode": {
    "name": "ipython",
    "version": 3
   },
   "file_extension": ".py",
   "mimetype": "text/x-python",
   "name": "python",
   "nbconvert_exporter": "python",
   "pygments_lexer": "ipython3",
   "version": "3.12.4"
  }
 },
 "nbformat": 4,
 "nbformat_minor": 2
}
